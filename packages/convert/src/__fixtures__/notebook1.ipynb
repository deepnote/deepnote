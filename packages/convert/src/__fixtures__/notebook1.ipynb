{
  "cells": [
    {
      "cell_type": "markdown",
      "metadata": {},
      "source": "# Notebook 1"
    },
    {
      "cell_type": "code",
      "execution_count": 1,
      "metadata": {},
      "outputs": [],
      "source": "x = 1"
    }
  ],
  "metadata": {},
  "nbformat": 4,
  "nbformat_minor": 5
}
